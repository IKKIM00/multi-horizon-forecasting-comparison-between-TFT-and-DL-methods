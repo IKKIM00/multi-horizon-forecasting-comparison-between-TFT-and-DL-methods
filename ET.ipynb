{
 "cells": [
  {
   "cell_type": "code",
   "execution_count": 1,
   "metadata": {
    "ExecuteTime": {
     "end_time": "2021-07-04T10:34:34.731528Z",
     "start_time": "2021-07-04T10:34:32.046960Z"
    }
   },
   "outputs": [],
   "source": [
    "import os\n",
    "import pandas as pd\n",
    "import numpy as np\n",
    "import matplotlib.pyplot as plt\n",
    "\n",
    "import torch\n",
    "import torch.nn as nn\n",
    "from torch.nn import functional as F\n",
    "from torch.utils.data import DataLoader, TensorDataset\n",
    "\n",
    "from model.CNN import CNN\n",
    "from model.LSTM import LSTM\n",
    "from libs import utils\n",
    "\n",
    "%matplotlib inline"
   ]
  },
  {
   "cell_type": "code",
   "execution_count": 2,
   "metadata": {
    "ExecuteTime": {
     "end_time": "2021-07-04T10:34:34.820588Z",
     "start_time": "2021-07-04T10:34:34.734179Z"
    }
   },
   "outputs": [
    {
     "data": {
      "text/plain": [
       "'cuda:2'"
      ]
     },
     "execution_count": 2,
     "metadata": {},
     "output_type": "execute_result"
    }
   ],
   "source": [
    "np.random.seed(42)\n",
    "device = 'cuda:2' if torch.cuda.is_available() else 'cpu'\n",
    "device"
   ]
  },
  {
   "cell_type": "code",
   "execution_count": 3,
   "metadata": {
    "ExecuteTime": {
     "end_time": "2021-07-04T10:34:35.527521Z",
     "start_time": "2021-07-04T10:34:34.822864Z"
    }
   },
   "outputs": [],
   "source": [
    "ettm1 = utils.ET_preprocess('data/ETTm1.csv')\n",
    "ettm1['id'] = 1\n",
    "ettm2 = utils.ET_preprocess('data/ETTm2.csv')\n",
    "ettm2['id'] = 2"
   ]
  },
  {
   "cell_type": "code",
   "execution_count": 4,
   "metadata": {
    "ExecuteTime": {
     "end_time": "2021-07-04T10:39:20.267455Z",
     "start_time": "2021-07-04T10:34:35.529722Z"
    }
   },
   "outputs": [
    {
     "name": "stderr",
     "output_type": "stream",
     "text": [
      "100%|██████████| 70059/70059 [02:07<00:00, 549.51it/s]\n",
      "100%|██████████| 41259/41259 [01:34<00:00, 435.01it/s] \n",
      "100%|██████████| 27979/27979 [00:49<00:00, 565.56it/s]\n"
     ]
    }
   ],
   "source": [
    "ettm1_train, ettm1_valid, ettm1_test = utils.ET_data_split(ettm1)\n",
    "ettm2_train, ettm2_valid, ettm2_test = utils.ET_data_split(ettm2)\n",
    "\n",
    "train = pd.concat([ettm1_train, ettm2_train])\n",
    "valid = pd.concat([ettm1_valid, ettm2_valid])\n",
    "test = pd.concat([ettm1_test, ettm2_test])\n",
    "\n",
    "(X_train, y_train), (X_valid, y_valid), (X_test, y_test), test_scaler = utils.ET_data2tensor(train, valid, test)"
   ]
  },
  {
   "cell_type": "code",
   "execution_count": 5,
   "metadata": {
    "ExecuteTime": {
     "end_time": "2021-07-04T10:39:20.286518Z",
     "start_time": "2021-07-04T10:39:20.269635Z"
    }
   },
   "outputs": [
    {
     "data": {
      "text/plain": [
       "tensor([[[-1.0064, -1.0100, -1.0100,  ..., -1.0242, -1.0242, -1.0242],\n",
       "         [-0.8246, -0.8138, -0.8353,  ..., -0.8246, -0.8353, -0.8138],\n",
       "         [-1.0007, -1.0051, -1.0051,  ..., -1.0051, -1.0051, -1.0051],\n",
       "         [-0.9452, -0.9518, -0.9581,  ..., -0.9452, -0.9518, -0.9389],\n",
       "         [ 0.6391,  0.6563,  0.6479,  ...,  0.5620,  0.5620,  0.5791],\n",
       "         [ 0.3475,  0.3573,  0.3426,  ...,  0.3475,  0.3475,  0.3426]],\n",
       "\n",
       "        [[-1.0100, -1.0100, -1.0100,  ..., -1.0242, -1.0242, -1.0171],\n",
       "         [-0.8138, -0.8353, -0.8353,  ..., -0.8353, -0.8138, -0.8031],\n",
       "         [-1.0051, -1.0051, -1.0051,  ..., -1.0051, -1.0051, -1.0036],\n",
       "         [-0.9518, -0.9581, -0.9518,  ..., -0.9518, -0.9389, -0.9323],\n",
       "         [ 0.6563,  0.6479,  0.6479,  ...,  0.5620,  0.5791,  0.5963],\n",
       "         [ 0.3573,  0.3426,  0.3426,  ...,  0.3475,  0.3426,  0.3525]],\n",
       "\n",
       "        [[-1.0100, -1.0100, -1.0135,  ..., -1.0242, -1.0171, -0.9993],\n",
       "         [-0.8353, -0.8353, -0.8138,  ..., -0.8138, -0.8031, -0.7708],\n",
       "         [-1.0051, -1.0051, -1.0051,  ..., -1.0051, -1.0036, -0.9978],\n",
       "         [-0.9581, -0.9518, -0.9518,  ..., -0.9389, -0.9323, -0.9194],\n",
       "         [ 0.6479,  0.6479,  0.6220,  ...,  0.5791,  0.5963,  0.6479],\n",
       "         [ 0.3426,  0.3426,  0.3525,  ...,  0.3426,  0.3525,  0.3721]],\n",
       "\n",
       "        ...,\n",
       "\n",
       "        [[ 0.4596,  0.7274,  0.6069,  ...,  0.5132,  0.4105,  0.4373],\n",
       "         [ 0.2380,  0.4801,  0.3456,  ...,  0.5339,  0.3188,  0.2918],\n",
       "         [ 0.6956,  0.7941,  0.8007,  ...,  0.7808,  0.6070,  0.6967],\n",
       "         [ 1.0599,  1.1523,  1.1474,  ...,  1.3569,  1.0014,  1.0501],\n",
       "         [-3.1001, -2.4095, -2.9888,  ..., -3.2201, -2.7427, -3.0761],\n",
       "         [-0.4403, -0.4403, -0.4403,  ..., -0.4057, -0.4057, -0.4057]],\n",
       "\n",
       "        [[ 0.7274,  0.6069,  0.5979,  ...,  0.4105,  0.4373,  0.3659],\n",
       "         [ 0.4801,  0.3456,  0.3994,  ...,  0.3188,  0.2918,  0.3456],\n",
       "         [ 0.7941,  0.8007,  0.8107,  ...,  0.6070,  0.6967,  0.6037],\n",
       "         [ 1.1523,  1.1474,  1.1912,  ...,  1.0014,  1.0501,  1.0159],\n",
       "         [-2.4095, -2.9888, -3.1029,  ..., -2.7427, -3.0761, -3.0249],\n",
       "         [-0.4403, -0.4403, -0.4403,  ..., -0.4057, -0.4057, -0.4057]],\n",
       "\n",
       "        [[ 0.6069,  0.5979,  0.4373,  ...,  0.4373,  0.3659,  0.3971],\n",
       "         [ 0.3456,  0.3994,  0.2650,  ...,  0.2918,  0.3456,  0.2783],\n",
       "         [ 0.8007,  0.8107,  0.6602,  ...,  0.6967,  0.6037,  0.6325],\n",
       "         [ 1.1474,  1.1912,  1.0063,  ...,  1.0501,  1.0159,  0.9284],\n",
       "         [-2.9888, -3.1029, -2.9229,  ..., -3.0761, -3.0249, -2.8810],\n",
       "         [-0.4403, -0.4403, -0.4403,  ..., -0.4057, -0.4057, -0.4057]]])"
      ]
     },
     "execution_count": 5,
     "metadata": {},
     "output_type": "execute_result"
    }
   ],
   "source": [
    "X_train"
   ]
  },
  {
   "cell_type": "code",
   "execution_count": 6,
   "metadata": {
    "ExecuteTime": {
     "end_time": "2021-07-04T10:39:20.293699Z",
     "start_time": "2021-07-04T10:39:20.288559Z"
    }
   },
   "outputs": [
    {
     "name": "stdout",
     "output_type": "stream",
     "text": [
      "X Train shape  torch.Size([70059, 6, 20])\n",
      "X Valid shape  torch.Size([41259, 6, 20])\n",
      "X Test shape torch.Size([27979, 6, 20])\n"
     ]
    }
   ],
   "source": [
    "print('X Train shape ', X_train.shape)\n",
    "print('X Valid shape ', X_valid.shape)\n",
    "print('X Test shape', X_test.shape)"
   ]
  },
  {
   "cell_type": "code",
   "execution_count": 7,
   "metadata": {
    "ExecuteTime": {
     "end_time": "2021-07-04T10:39:20.305453Z",
     "start_time": "2021-07-04T10:39:20.296985Z"
    }
   },
   "outputs": [],
   "source": [
    "batch_size = 256\n",
    "\n",
    "train_data = TensorDataset(X_train, y_train)\n",
    "train_loader = DataLoader(train_data, shuffle=False, batch_size=batch_size)\n",
    "\n",
    "valid_data = TensorDataset(X_valid, y_valid)\n",
    "valid_loader = DataLoader(valid_data, shuffle=False, batch_size=batch_size)\n",
    "\n",
    "test_data = TensorDataset(X_test, y_test)\n",
    "test_loader = DataLoader(test_data, shuffle=False, batch_size=1)"
   ]
  },
  {
   "cell_type": "markdown",
   "metadata": {},
   "source": [
    "# Model"
   ]
  },
  {
   "cell_type": "code",
   "execution_count": 17,
   "metadata": {
    "ExecuteTime": {
     "end_time": "2021-07-04T10:47:42.821700Z",
     "start_time": "2021-07-04T10:47:42.816026Z"
    }
   },
   "outputs": [],
   "source": [
    "def choose_model(model_type):\n",
    "    if model_type == 'singleLSTM':\n",
    "        model = LSTM(6, 128, 1, 20, 1).cuda()\n",
    "        save_path = 'results/singleLSTM/'\n",
    "        save_file_name = save_path + 'SingleLSTMet.pth'\n",
    "    elif model_type == 'stackedLSTM':\n",
    "        model = LSTM(6, 128, 1, 20, 2).cuda()\n",
    "        save_path = 'results/stackedLSTM/'\n",
    "        save_file_name = save_path + 'StackedLSTMet.pth'\n",
    "    elif model_type == 'CNN':\n",
    "        model = CNN(6, [32, 64, 128], 1).cuda()\n",
    "        save_path = 'results/CNN/'\n",
    "        save_file_name = save_path + 'CNNet.pth'\n",
    "    return model, save_path, save_file_name"
   ]
  },
  {
   "cell_type": "code",
   "execution_count": 36,
   "metadata": {
    "ExecuteTime": {
     "end_time": "2021-07-04T11:24:58.226289Z",
     "start_time": "2021-07-04T11:24:58.219097Z"
    }
   },
   "outputs": [
    {
     "name": "stdout",
     "output_type": "stream",
     "text": [
      "CNN(\n",
      "  (block1): Sequential(\n",
      "    (0): Conv1d(6, 32, kernel_size=(4,), stride=(1,), padding=(1,))\n",
      "    (1): ReLU()\n",
      "  )\n",
      "  (block2): Sequential(\n",
      "    (0): Conv1d(32, 64, kernel_size=(4,), stride=(1,), padding=(1,))\n",
      "    (1): ReLU()\n",
      "  )\n",
      "  (block3): Sequential(\n",
      "    (0): Conv1d(64, 128, kernel_size=(4,), stride=(1,), padding=(1,))\n",
      "    (1): ReLU()\n",
      "  )\n",
      "  (conv1): Conv1d(128, 1, kernel_size=(1,), stride=(1,))\n",
      ")\n"
     ]
    }
   ],
   "source": [
    "model_type = 'CNN'\n",
    "model, save_path, save_file_name = choose_model(model_type)\n",
    "print(model)"
   ]
  },
  {
   "cell_type": "code",
   "execution_count": 37,
   "metadata": {
    "ExecuteTime": {
     "end_time": "2021-07-04T11:25:03.610219Z",
     "start_time": "2021-07-04T11:25:03.603806Z"
    }
   },
   "outputs": [],
   "source": [
    "lr = 0.0001\n",
    "optimizer = torch.optim.Adam(model.parameters(), lr=lr)\n",
    "scheduler = torch.optim.lr_scheduler.ReduceLROnPlateau(optimizer=optimizer,\n",
    "                                                       mode='min',\n",
    "                                                       factor=0.2\n",
    "                                                    )\n",
    "criterion = nn.MSELoss().cuda()\n",
    "patience = 5\n",
    "n_epochs = 300"
   ]
  },
  {
   "cell_type": "code",
   "execution_count": 38,
   "metadata": {
    "ExecuteTime": {
     "end_time": "2021-07-04T11:25:23.498641Z",
     "start_time": "2021-07-04T11:25:23.216724Z"
    }
   },
   "outputs": [
    {
     "name": "stdout",
     "output_type": "stream",
     "text": [
      "torch.Size([256, 6, 20])\n",
      "torch.Size([256])\n",
      "torch.Size([256, 1, 1])\n",
      "tensor([[[0.0748]],\n",
      "\n",
      "        [[0.0748]],\n",
      "\n",
      "        [[0.0747]],\n",
      "\n",
      "        [[0.0746]],\n",
      "\n",
      "        [[0.0745]],\n",
      "\n",
      "        [[0.0744]],\n",
      "\n",
      "        [[0.0743]],\n",
      "\n",
      "        [[0.0743]],\n",
      "\n",
      "        [[0.0744]],\n",
      "\n",
      "        [[0.0745]],\n",
      "\n",
      "        [[0.0746]],\n",
      "\n",
      "        [[0.0747]],\n",
      "\n",
      "        [[0.0748]],\n",
      "\n",
      "        [[0.0749]],\n",
      "\n",
      "        [[0.0753]],\n",
      "\n",
      "        [[0.0755]],\n",
      "\n",
      "        [[0.0753]],\n",
      "\n",
      "        [[0.0749]],\n",
      "\n",
      "        [[0.0745]],\n",
      "\n",
      "        [[0.0740]],\n",
      "\n",
      "        [[0.0735]],\n",
      "\n",
      "        [[0.0731]],\n",
      "\n",
      "        [[0.0725]],\n",
      "\n",
      "        [[0.0720]],\n",
      "\n",
      "        [[0.0716]],\n",
      "\n",
      "        [[0.0712]],\n",
      "\n",
      "        [[0.0709]],\n",
      "\n",
      "        [[0.0706]],\n",
      "\n",
      "        [[0.0703]],\n",
      "\n",
      "        [[0.0700]],\n",
      "\n",
      "        [[0.0698]],\n",
      "\n",
      "        [[0.0694]],\n",
      "\n",
      "        [[0.0694]],\n",
      "\n",
      "        [[0.0695]],\n",
      "\n",
      "        [[0.0696]],\n",
      "\n",
      "        [[0.0695]],\n",
      "\n",
      "        [[0.0695]],\n",
      "\n",
      "        [[0.0695]],\n",
      "\n",
      "        [[0.0694]],\n",
      "\n",
      "        [[0.0692]],\n",
      "\n",
      "        [[0.0689]],\n",
      "\n",
      "        [[0.0685]],\n",
      "\n",
      "        [[0.0682]],\n",
      "\n",
      "        [[0.0679]],\n",
      "\n",
      "        [[0.0676]],\n",
      "\n",
      "        [[0.0673]],\n",
      "\n",
      "        [[0.0670]],\n",
      "\n",
      "        [[0.0668]],\n",
      "\n",
      "        [[0.0667]],\n",
      "\n",
      "        [[0.0667]],\n",
      "\n",
      "        [[0.0667]],\n",
      "\n",
      "        [[0.0667]],\n",
      "\n",
      "        [[0.0669]],\n",
      "\n",
      "        [[0.0669]],\n",
      "\n",
      "        [[0.0671]],\n",
      "\n",
      "        [[0.0674]],\n",
      "\n",
      "        [[0.0676]],\n",
      "\n",
      "        [[0.0678]],\n",
      "\n",
      "        [[0.0679]],\n",
      "\n",
      "        [[0.0680]],\n",
      "\n",
      "        [[0.0682]],\n",
      "\n",
      "        [[0.0683]],\n",
      "\n",
      "        [[0.0683]],\n",
      "\n",
      "        [[0.0683]],\n",
      "\n",
      "        [[0.0683]],\n",
      "\n",
      "        [[0.0681]],\n",
      "\n",
      "        [[0.0681]],\n",
      "\n",
      "        [[0.0679]],\n",
      "\n",
      "        [[0.0677]],\n",
      "\n",
      "        [[0.0674]],\n",
      "\n",
      "        [[0.0672]],\n",
      "\n",
      "        [[0.0670]],\n",
      "\n",
      "        [[0.0668]],\n",
      "\n",
      "        [[0.0667]],\n",
      "\n",
      "        [[0.0666]],\n",
      "\n",
      "        [[0.0664]],\n",
      "\n",
      "        [[0.0662]],\n",
      "\n",
      "        [[0.0660]],\n",
      "\n",
      "        [[0.0659]],\n",
      "\n",
      "        [[0.0657]],\n",
      "\n",
      "        [[0.0655]],\n",
      "\n",
      "        [[0.0655]],\n",
      "\n",
      "        [[0.0653]],\n",
      "\n",
      "        [[0.0651]],\n",
      "\n",
      "        [[0.0650]],\n",
      "\n",
      "        [[0.0648]],\n",
      "\n",
      "        [[0.0648]],\n",
      "\n",
      "        [[0.0646]],\n",
      "\n",
      "        [[0.0645]],\n",
      "\n",
      "        [[0.0643]],\n",
      "\n",
      "        [[0.0642]],\n",
      "\n",
      "        [[0.0641]],\n",
      "\n",
      "        [[0.0639]],\n",
      "\n",
      "        [[0.0639]],\n",
      "\n",
      "        [[0.0638]],\n",
      "\n",
      "        [[0.0637]],\n",
      "\n",
      "        [[0.0636]],\n",
      "\n",
      "        [[0.0636]],\n",
      "\n",
      "        [[0.0636]],\n",
      "\n",
      "        [[0.0634]],\n",
      "\n",
      "        [[0.0635]],\n",
      "\n",
      "        [[0.0635]],\n",
      "\n",
      "        [[0.0637]],\n",
      "\n",
      "        [[0.0639]],\n",
      "\n",
      "        [[0.0640]],\n",
      "\n",
      "        [[0.0642]],\n",
      "\n",
      "        [[0.0645]],\n",
      "\n",
      "        [[0.0648]],\n",
      "\n",
      "        [[0.0651]],\n",
      "\n",
      "        [[0.0654]],\n",
      "\n",
      "        [[0.0656]],\n",
      "\n",
      "        [[0.0657]],\n",
      "\n",
      "        [[0.0659]],\n",
      "\n",
      "        [[0.0660]],\n",
      "\n",
      "        [[0.0662]],\n",
      "\n",
      "        [[0.0662]],\n",
      "\n",
      "        [[0.0660]],\n",
      "\n",
      "        [[0.0658]],\n",
      "\n",
      "        [[0.0655]],\n",
      "\n",
      "        [[0.0652]],\n",
      "\n",
      "        [[0.0649]],\n",
      "\n",
      "        [[0.0646]],\n",
      "\n",
      "        [[0.0645]],\n",
      "\n",
      "        [[0.0643]],\n",
      "\n",
      "        [[0.0642]],\n",
      "\n",
      "        [[0.0641]],\n",
      "\n",
      "        [[0.0639]],\n",
      "\n",
      "        [[0.0635]],\n",
      "\n",
      "        [[0.0632]],\n",
      "\n",
      "        [[0.0630]],\n",
      "\n",
      "        [[0.0628]],\n",
      "\n",
      "        [[0.0628]],\n",
      "\n",
      "        [[0.0625]],\n",
      "\n",
      "        [[0.0624]],\n",
      "\n",
      "        [[0.0621]],\n",
      "\n",
      "        [[0.0621]],\n",
      "\n",
      "        [[0.0622]],\n",
      "\n",
      "        [[0.0621]],\n",
      "\n",
      "        [[0.0620]],\n",
      "\n",
      "        [[0.0618]],\n",
      "\n",
      "        [[0.0614]],\n",
      "\n",
      "        [[0.0614]],\n",
      "\n",
      "        [[0.0614]],\n",
      "\n",
      "        [[0.0613]],\n",
      "\n",
      "        [[0.0611]],\n",
      "\n",
      "        [[0.0612]],\n",
      "\n",
      "        [[0.0613]],\n",
      "\n",
      "        [[0.0615]],\n",
      "\n",
      "        [[0.0617]],\n",
      "\n",
      "        [[0.0619]],\n",
      "\n",
      "        [[0.0622]],\n",
      "\n",
      "        [[0.0623]],\n",
      "\n",
      "        [[0.0624]],\n",
      "\n",
      "        [[0.0628]],\n",
      "\n",
      "        [[0.0630]],\n",
      "\n",
      "        [[0.0631]],\n",
      "\n",
      "        [[0.0635]],\n",
      "\n",
      "        [[0.0638]],\n",
      "\n",
      "        [[0.0642]],\n",
      "\n",
      "        [[0.0645]],\n",
      "\n",
      "        [[0.0648]],\n",
      "\n",
      "        [[0.0652]],\n",
      "\n",
      "        [[0.0655]],\n",
      "\n",
      "        [[0.0656]],\n",
      "\n",
      "        [[0.0658]],\n",
      "\n",
      "        [[0.0659]],\n",
      "\n",
      "        [[0.0659]],\n",
      "\n",
      "        [[0.0659]],\n",
      "\n",
      "        [[0.0658]],\n",
      "\n",
      "        [[0.0656]],\n",
      "\n",
      "        [[0.0654]],\n",
      "\n",
      "        [[0.0652]],\n",
      "\n",
      "        [[0.0648]],\n",
      "\n",
      "        [[0.0646]],\n",
      "\n",
      "        [[0.0641]],\n",
      "\n",
      "        [[0.0636]],\n",
      "\n",
      "        [[0.0631]],\n",
      "\n",
      "        [[0.0627]],\n",
      "\n",
      "        [[0.0621]],\n",
      "\n",
      "        [[0.0616]],\n",
      "\n",
      "        [[0.0612]],\n",
      "\n",
      "        [[0.0609]],\n",
      "\n",
      "        [[0.0603]],\n",
      "\n",
      "        [[0.0601]],\n",
      "\n",
      "        [[0.0601]],\n",
      "\n",
      "        [[0.0599]],\n",
      "\n",
      "        [[0.0599]],\n",
      "\n",
      "        [[0.0598]],\n",
      "\n",
      "        [[0.0599]],\n",
      "\n",
      "        [[0.0596]],\n",
      "\n",
      "        [[0.0598]],\n",
      "\n",
      "        [[0.0597]],\n",
      "\n",
      "        [[0.0599]],\n",
      "\n",
      "        [[0.0599]],\n",
      "\n",
      "        [[0.0599]],\n",
      "\n",
      "        [[0.0603]],\n",
      "\n",
      "        [[0.0604]],\n",
      "\n",
      "        [[0.0606]],\n",
      "\n",
      "        [[0.0611]],\n",
      "\n",
      "        [[0.0614]],\n",
      "\n",
      "        [[0.0619]],\n",
      "\n",
      "        [[0.0621]],\n",
      "\n",
      "        [[0.0625]],\n",
      "\n",
      "        [[0.0628]],\n",
      "\n",
      "        [[0.0633]],\n",
      "\n",
      "        [[0.0637]],\n",
      "\n",
      "        [[0.0639]],\n",
      "\n",
      "        [[0.0642]],\n",
      "\n",
      "        [[0.0646]],\n",
      "\n",
      "        [[0.0650]],\n",
      "\n",
      "        [[0.0652]],\n",
      "\n",
      "        [[0.0653]],\n",
      "\n",
      "        [[0.0656]],\n",
      "\n",
      "        [[0.0656]],\n",
      "\n",
      "        [[0.0654]],\n",
      "\n",
      "        [[0.0652]],\n",
      "\n",
      "        [[0.0653]],\n",
      "\n",
      "        [[0.0653]],\n",
      "\n",
      "        [[0.0652]],\n",
      "\n",
      "        [[0.0657]],\n",
      "\n",
      "        [[0.0658]],\n",
      "\n",
      "        [[0.0658]],\n",
      "\n",
      "        [[0.0658]],\n",
      "\n",
      "        [[0.0659]],\n",
      "\n",
      "        [[0.0657]],\n",
      "\n",
      "        [[0.0654]],\n",
      "\n",
      "        [[0.0652]],\n",
      "\n",
      "        [[0.0650]],\n",
      "\n",
      "        [[0.0649]],\n",
      "\n",
      "        [[0.0647]],\n",
      "\n",
      "        [[0.0646]],\n",
      "\n",
      "        [[0.0643]],\n",
      "\n",
      "        [[0.0641]],\n",
      "\n",
      "        [[0.0638]],\n",
      "\n",
      "        [[0.0635]],\n",
      "\n",
      "        [[0.0632]],\n",
      "\n",
      "        [[0.0629]],\n",
      "\n",
      "        [[0.0626]],\n",
      "\n",
      "        [[0.0622]],\n",
      "\n",
      "        [[0.0620]],\n",
      "\n",
      "        [[0.0619]],\n",
      "\n",
      "        [[0.0617]],\n",
      "\n",
      "        [[0.0618]],\n",
      "\n",
      "        [[0.0620]],\n",
      "\n",
      "        [[0.0620]],\n",
      "\n",
      "        [[0.0625]],\n",
      "\n",
      "        [[0.0628]],\n",
      "\n",
      "        [[0.0631]],\n",
      "\n",
      "        [[0.0633]],\n",
      "\n",
      "        [[0.0636]],\n",
      "\n",
      "        [[0.0637]],\n",
      "\n",
      "        [[0.0640]],\n",
      "\n",
      "        [[0.0641]],\n",
      "\n",
      "        [[0.0644]],\n",
      "\n",
      "        [[0.0647]],\n",
      "\n",
      "        [[0.0650]]], device='cuda:0')\n",
      "tensor(0.1273, device='cuda:0')\n"
     ]
    }
   ],
   "source": [
    "with torch.no_grad():\n",
    "    dataiter = iter(train_loader)\n",
    "    X, y = dataiter.next()\n",
    "    print(X.shape)\n",
    "    print(y.shape)\n",
    "#     X = X.reshape(-1, 20, 6)\n",
    "#     print(X)\n",
    "    exmodel = CNN(6, [32, 64, 128], 1).cuda()\n",
    "    output = exmodel(X.cuda())\n",
    "    criterion = nn.MSELoss().cuda()\n",
    "    print(output.shape)\n",
    "    print(output)\n",
    "    loss = criterion(output.reshape(-1), y.cuda())\n",
    "    print(loss)"
   ]
  },
  {
   "cell_type": "markdown",
   "metadata": {},
   "source": [
    "# Train"
   ]
  },
  {
   "cell_type": "code",
   "execution_count": 39,
   "metadata": {
    "ExecuteTime": {
     "end_time": "2021-07-04T11:25:31.074650Z",
     "start_time": "2021-07-04T11:25:31.043615Z"
    }
   },
   "outputs": [],
   "source": [
    "def fit(model, batch_size, patience, n_epochs):\n",
    "    \n",
    "    train_losses = []\n",
    "    valid_losses = []\n",
    "    avg_train_losses = []\n",
    "    avg_valid_losses = []\n",
    "    \n",
    "    best_loss = 9999999999\n",
    "    patience = 0\n",
    "    \n",
    "    for epoch in range(1, n_epochs + 1):\n",
    "\n",
    "        ###################\n",
    "        # train the model #\n",
    "        ###################\n",
    "        model.train()\n",
    "        for data, target in train_loader:\n",
    "            optimizer.zero_grad()\n",
    "            if model_type != 'CNN':\n",
    "                data, target = data.reshape(-1, 20, 6).cuda(), target.cuda()\n",
    "            else:\n",
    "                data, target = data.cuda(), target.cuda()\n",
    "            output = model(data)\n",
    "            loss = criterion(output.reshape(-1), target)\n",
    "            loss.backward()\n",
    "            optimizer.step()\n",
    "            train_losses.append(loss.item())\n",
    "\n",
    "        ######################    \n",
    "        # validate the model #\n",
    "        ######################\n",
    "        model.eval()\n",
    "        for data, target in valid_loader:\n",
    "            if model_type != 'CNN':\n",
    "                data, target = data.reshape(-1, 20, 6).cuda(), target.cuda()\n",
    "            else:\n",
    "                data, target = data.cuda(), target.cuda()\n",
    "            output = model(data)\n",
    "            loss = criterion(output.reshape(-1), target)\n",
    "            valid_losses.append(loss.item())\n",
    "\n",
    "        train_loss = np.average(train_losses)\n",
    "        valid_loss = np.average(valid_losses)\n",
    "        avg_train_losses.append(train_loss)\n",
    "        avg_valid_losses.append(valid_loss)\n",
    "            \n",
    "        epoch_len = len(str(n_epochs))\n",
    "        \n",
    "        print_msg = (f'[{epoch:>{epoch_len}}/{n_epochs:>{epoch_len}}] ' +\n",
    "                     f'train_loss: {train_loss:.5f} ' +\n",
    "                     f'valid_loss: {valid_loss:.5f}')\n",
    "        \n",
    "        print(print_msg)\n",
    "        \n",
    "        train_losses = []\n",
    "        valid_losses = []\n",
    "        \n",
    "        if valid_loss < best_loss:\n",
    "            best_loss = valid_loss\n",
    "            patience = 0\n",
    "            torch.save(model.state_dict(), save_file_name)\n",
    "            print('Saving Model')\n",
    "        else:\n",
    "            patience += 1\n",
    "            print('Patience for ', patience)\n",
    "        if patience == 5:\n",
    "            break\n",
    "\n",
    "    model.load_state_dict(torch.load(save_file_name))\n",
    "\n",
    "    return  model, avg_train_losses, avg_valid_losses"
   ]
  },
  {
   "cell_type": "code",
   "execution_count": 40,
   "metadata": {
    "ExecuteTime": {
     "end_time": "2021-07-04T11:25:34.423075Z",
     "start_time": "2021-07-04T11:25:34.416673Z"
    }
   },
   "outputs": [],
   "source": [
    "def evaluate_model(model, test_loader):\n",
    "    test_loss = 0.0\n",
    "    y_test = []\n",
    "    y_hat = []\n",
    "    model.eval()\n",
    "    for data, target in test_loader:\n",
    "        if model_type != 'CNN':\n",
    "            data, target = data.reshape(-1, 20, 6).cuda(), target.cuda()\n",
    "        else:\n",
    "            data, target = data.cuda(), target.cuda()\n",
    "        y_test.append(target.cpu().numpy())\n",
    "        output = model(data)\n",
    "        y_hat.append(output.reshape(-1).detach().cpu().numpy())\n",
    "        loss = criterion(output.reshape(1), target)\n",
    "        test_loss += loss.item()\n",
    "    return test_loss/len(test_loader), y_test, y_hat"
   ]
  },
  {
   "cell_type": "code",
   "execution_count": 41,
   "metadata": {
    "ExecuteTime": {
     "end_time": "2021-07-04T11:26:53.215492Z",
     "start_time": "2021-07-04T11:25:37.180376Z"
    }
   },
   "outputs": [
    {
     "name": "stdout",
     "output_type": "stream",
     "text": [
      "[  1/300] train_loss: 0.91990 valid_loss: 0.69331\n",
      "Saving Model\n",
      "[  2/300] train_loss: 0.77409 valid_loss: 0.66718\n",
      "Saving Model\n",
      "[  3/300] train_loss: 0.77562 valid_loss: 0.63145\n",
      "Saving Model\n",
      "[  4/300] train_loss: 0.72625 valid_loss: 0.61976\n",
      "Saving Model\n",
      "[  5/300] train_loss: 0.69973 valid_loss: 0.61825\n",
      "Saving Model\n",
      "[  6/300] train_loss: 0.68066 valid_loss: 0.61155\n",
      "Saving Model\n",
      "[  7/300] train_loss: 0.65698 valid_loss: 0.60690\n",
      "Saving Model\n",
      "[  8/300] train_loss: 0.64234 valid_loss: 0.60253\n",
      "Saving Model\n",
      "[  9/300] train_loss: 0.62774 valid_loss: 0.59990\n",
      "Saving Model\n",
      "[ 10/300] train_loss: 0.61683 valid_loss: 0.60049\n",
      "Patience for  1\n",
      "[ 11/300] train_loss: 0.60826 valid_loss: 0.61023\n",
      "Patience for  2\n",
      "[ 12/300] train_loss: 0.60087 valid_loss: 0.61843\n",
      "Patience for  3\n",
      "[ 13/300] train_loss: 0.59351 valid_loss: 0.63000\n",
      "Patience for  4\n",
      "[ 14/300] train_loss: 0.58724 valid_loss: 0.64342\n",
      "Patience for  5\n"
     ]
    }
   ],
   "source": [
    "model, train_loss, valid_loss = fit(model, batch_size, patience, n_epochs)"
   ]
  },
  {
   "cell_type": "code",
   "execution_count": 42,
   "metadata": {
    "ExecuteTime": {
     "end_time": "2021-07-04T11:30:42.498656Z",
     "start_time": "2021-07-04T11:29:14.507994Z"
    }
   },
   "outputs": [],
   "source": [
    "test_loss, y_target, y_hat = evaluate_model(model, test_loader)"
   ]
  },
  {
   "cell_type": "code",
   "execution_count": 43,
   "metadata": {
    "ExecuteTime": {
     "end_time": "2021-07-04T11:30:52.114640Z",
     "start_time": "2021-07-04T11:30:50.125285Z"
    }
   },
   "outputs": [
    {
     "data": {
      "image/png": "[encoded data removed]",
      "text/plain": [
       "<Figure size 720x216 with 1 Axes>"
      ]
     },
     "metadata": {
      "needs_background": "light"
     },
     "output_type": "display_data"
    }
   ],
   "source": [
    "plt.figure(figsize=(10, 3))\n",
    "plt.plot(y_target[:200], label='target')\n",
    "plt.plot(y_hat[:200], label='predicted')\n",
    "plt.legend(loc='upper right', fontsize=20)\n",
    "plt.xticks(fontsize=15)\n",
    "plt.yticks(fontsize=15)\n",
    "plt.show()"
   ]
  },
  {
   "cell_type": "code",
   "execution_count": 44,
   "metadata": {
    "ExecuteTime": {
     "end_time": "2021-07-04T11:31:00.807948Z",
     "start_time": "2021-07-04T11:31:00.803557Z"
    }
   },
   "outputs": [
    {
     "name": "stdout",
     "output_type": "stream",
     "text": [
      "Test Loss : 0.48110546674734306\n"
     ]
    }
   ],
   "source": [
    "print('Test Loss :', test_loss)"
   ]
  },
  {
   "cell_type": "code",
   "execution_count": null,
   "metadata": {},
   "outputs": [],
   "source": []
  }
 ],
 "metadata": {
  "kernelspec": {
   "display_name": "Python 3",
   "language": "python",
   "name": "python3"
  },
  "language_info": {
   "codemirror_mode": {
    "name": "ipython",
    "version": 3
   },
   "file_extension": ".py",
   "mimetype": "text/x-python",
   "name": "python",
   "nbconvert_exporter": "python",
   "pygments_lexer": "ipython3",
   "version": "3.8.5"
  },
  "toc": {
   "base_numbering": 1,
   "nav_menu": {},
   "number_sections": false,
   "sideBar": true,
   "skip_h1_title": false,
   "title_cell": "Table of Contents",
   "title_sidebar": "Contents",
   "toc_cell": false,
   "toc_position": {},
   "toc_section_display": true,
   "toc_window_display": false
  },
  "varInspector": {
   "cols": {
    "lenName": 16,
    "lenType": 16,
    "lenVar": 40
   },
   "kernels_config": {
    "python": {
     "delete_cmd_postfix": "",
     "delete_cmd_prefix": "del ",
     "library": "var_list.py",
     "varRefreshCmd": "print(var_dic_list())"
    },
    "r": {
     "delete_cmd_postfix": ") ",
     "delete_cmd_prefix": "rm(",
     "library": "var_list.r",
     "varRefreshCmd": "cat(var_dic_list()) "
    }
   },
   "types_to_exclude": [
    "module",
    "function",
    "builtin_function_or_method",
    "instance",
    "_Feature"
   ],
   "window_display": false
  }
 },
 "nbformat": 4,
 "nbformat_minor": 4
}
