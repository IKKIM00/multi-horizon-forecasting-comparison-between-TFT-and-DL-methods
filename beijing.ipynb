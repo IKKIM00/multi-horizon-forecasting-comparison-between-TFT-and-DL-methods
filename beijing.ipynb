{
 "cells": [
  {
   "cell_type": "code",
   "execution_count": 1,
   "metadata": {
    "ExecuteTime": {
     "end_time": "2021-07-04T09:58:57.735244Z",
     "start_time": "2021-07-04T09:58:55.042022Z"
    }
   },
   "outputs": [],
   "source": [
    "import os\n",
    "import pandas as pd\n",
    "import numpy as np\n",
    "import matplotlib.pyplot as plt\n",
    "\n",
    "import torch\n",
    "import torch.nn as nn\n",
    "from torch.nn import functional as F\n",
    "from torch.utils.data import DataLoader, TensorDataset\n",
    "\n",
    "from model.CNN import CNN\n",
    "from model.LSTM import LSTM\n",
    "from libs import utils\n",
    "\n",
    "%matplotlib inline"
   ]
  },
  {
   "cell_type": "code",
   "execution_count": 2,
   "metadata": {
    "ExecuteTime": {
     "end_time": "2021-07-04T09:58:57.829946Z",
     "start_time": "2021-07-04T09:58:57.738167Z"
    }
   },
   "outputs": [
    {
     "data": {
      "text/plain": [
       "'cuda:2'"
      ]
     },
     "execution_count": 2,
     "metadata": {},
     "output_type": "execute_result"
    }
   ],
   "source": [
    "np.random.seed(42)\n",
    "device = 'cuda:2' if torch.cuda.is_available() else 'cpu'\n",
    "device"
   ]
  },
  {
   "cell_type": "code",
   "execution_count": 3,
   "metadata": {
    "ExecuteTime": {
     "end_time": "2021-07-04T10:00:39.263220Z",
     "start_time": "2021-07-04T09:58:57.832232Z"
    }
   },
   "outputs": [],
   "source": [
    "data_dir = 'data/beijing_data.csv'\n",
    "transformed_data = utils.beijing_preprocess(data_dir)"
   ]
  },
  {
   "cell_type": "code",
   "execution_count": 4,
   "metadata": {
    "ExecuteTime": {
     "end_time": "2021-07-04T10:03:33.855646Z",
     "start_time": "2021-07-04T10:00:39.265431Z"
    }
   },
   "outputs": [
    {
     "name": "stderr",
     "output_type": "stream",
     "text": [
      "100%|██████████| 26279/26279 [01:44<00:00, 250.71it/s]\n",
      "100%|██████████| 8735/8735 [00:40<00:00, 214.04it/s]\n",
      "100%|██████████| 8735/8735 [00:21<00:00, 405.63it/s]\n"
     ]
    }
   ],
   "source": [
    "train, valid, test = utils.beijing_data_split(transformed_data)\n",
    "(X_train, y_train), (X_valid, y_valid), (X_test, y_test), test_scaler = utils.beijing_data2tensor(train, valid, test)"
   ]
  },
  {
   "cell_type": "code",
   "execution_count": 5,
   "metadata": {
    "ExecuteTime": {
     "end_time": "2021-07-04T10:03:33.863588Z",
     "start_time": "2021-07-04T10:03:33.857770Z"
    }
   },
   "outputs": [
    {
     "name": "stdout",
     "output_type": "stream",
     "text": [
      "X Train shape  torch.Size([26279, 8, 24])\n",
      "X Valid shape  torch.Size([8735, 8, 24])\n",
      "X Test shape torch.Size([8735, 8, 24])\n"
     ]
    }
   ],
   "source": [
    "print('X Train shape ', X_train.shape)\n",
    "print('X Valid shape ', X_valid.shape)\n",
    "print('X Test shape', X_test.shape)"
   ]
  },
  {
   "cell_type": "code",
   "execution_count": 6,
   "metadata": {
    "ExecuteTime": {
     "end_time": "2021-07-04T10:03:33.884628Z",
     "start_time": "2021-07-04T10:03:33.865687Z"
    }
   },
   "outputs": [
    {
     "data": {
      "text/plain": [
       "tensor([[[-1.0133, -1.0133, -1.0133,  ..., -1.0133, -1.0133, -1.0133],\n",
       "         [-1.5753, -1.5753, -1.5753,  ..., -1.3002, -1.3002, -1.3002],\n",
       "         [-1.8585, -1.9391, -1.8585,  ..., -1.3749, -1.3749, -1.3749],\n",
       "         ...,\n",
       "         [ 1.0000,  1.0000,  1.0000,  ...,  1.0000,  1.0000,  3.0000],\n",
       "         [-0.0761, -0.0761, -0.0761,  ..., -0.0761, -0.0761, -0.0761],\n",
       "         [-0.1424, -0.1424, -0.1424,  ..., -0.1424, -0.1424, -0.1424]],\n",
       "\n",
       "        [[-1.0133, -1.0133, -1.0133,  ..., -1.0133, -1.0133,  0.4262],\n",
       "         [-1.5753, -1.5753, -1.5753,  ..., -1.3002, -1.3002, -1.2314],\n",
       "         [-1.9391, -1.8585, -2.1004,  ..., -1.3749, -1.3749, -1.2942],\n",
       "         ...,\n",
       "         [ 1.0000,  1.0000,  1.0000,  ...,  1.0000,  3.0000,  2.0000],\n",
       "         [-0.0761, -0.0761, -0.0761,  ..., -0.0761, -0.0761, -0.0761],\n",
       "         [-0.1424, -0.1424, -0.1424,  ..., -0.1424, -0.1424, -0.1424]],\n",
       "\n",
       "        [[-1.0133, -1.0133, -1.0133,  ..., -1.0133,  0.4262,  0.6382],\n",
       "         [-1.5753, -1.5753, -1.5065,  ..., -1.3002, -1.2314, -1.1626],\n",
       "         [-1.8585, -2.1004, -1.9391,  ..., -1.3749, -1.2942, -1.2942],\n",
       "         ...,\n",
       "         [ 1.0000,  1.0000,  1.0000,  ...,  3.0000,  2.0000,  2.0000],\n",
       "         [-0.0761, -0.0761, -0.0761,  ..., -0.0761, -0.0761, -0.0761],\n",
       "         [-0.1424, -0.1424, -0.1424,  ..., -0.1424, -0.1424, -0.1424]],\n",
       "\n",
       "        ...,\n",
       "\n",
       "        [[-0.8013, -0.7567, -0.7232,  ..., -0.1429,  0.1360,  0.1472],\n",
       "         [-1.4377, -1.3689, -1.3002,  ..., -1.1626, -1.1626, -1.0250],\n",
       "         [-1.5361, -1.7779, -1.8585,  ..., -0.9718, -1.1330, -1.3749],\n",
       "         ...,\n",
       "         [ 1.0000,  3.0000,  0.0000,  ...,  1.0000,  1.0000,  2.0000],\n",
       "         [-0.0761, -0.0761, -0.0761,  ..., -0.0761, -0.0761, -0.0761],\n",
       "         [-0.1424, -0.1424, -0.1424,  ..., -0.1424, -0.1424, -0.1424]],\n",
       "\n",
       "        [[-0.7567, -0.7232, -0.0983,  ...,  0.1360,  0.1472,  0.4485],\n",
       "         [-1.3689, -1.3002, -1.3002,  ..., -1.1626, -1.0250, -1.0938],\n",
       "         [-1.7779, -1.8585, -1.7779,  ..., -1.1330, -1.3749, -1.4555],\n",
       "         ...,\n",
       "         [ 3.0000,  0.0000,  3.0000,  ...,  1.0000,  2.0000,  3.0000],\n",
       "         [-0.0761, -0.0761, -0.0761,  ..., -0.0761, -0.0761, -0.0761],\n",
       "         [-0.1424, -0.1424, -0.1424,  ..., -0.1424, -0.1424, -0.1424]],\n",
       "\n",
       "        [[-0.7232, -0.0983,  0.0691,  ...,  0.1472,  0.4485,  0.2476],\n",
       "         [-1.3002, -1.3002, -1.2314,  ..., -1.0250, -1.0938, -1.0938],\n",
       "         [-1.8585, -1.7779, -1.8585,  ..., -1.3749, -1.4555, -1.6973],\n",
       "         ...,\n",
       "         [ 0.0000,  3.0000,  3.0000,  ...,  2.0000,  3.0000,  1.0000],\n",
       "         [-0.0761, -0.0761, -0.0761,  ..., -0.0761, -0.0761, -0.0761],\n",
       "         [-0.1424, -0.1424, -0.1424,  ..., -0.1424, -0.1424, -0.1424]]])"
      ]
     },
     "execution_count": 6,
     "metadata": {},
     "output_type": "execute_result"
    }
   ],
   "source": [
    "X_train"
   ]
  },
  {
   "cell_type": "code",
   "execution_count": 7,
   "metadata": {
    "ExecuteTime": {
     "end_time": "2021-07-04T10:03:33.892362Z",
     "start_time": "2021-07-04T10:03:33.887810Z"
    }
   },
   "outputs": [],
   "source": [
    "batch_size = 256\n",
    "\n",
    "train_data = TensorDataset(X_train, y_train)\n",
    "train_loader = DataLoader(train_data, shuffle=False, batch_size=batch_size)\n",
    "\n",
    "valid_data = TensorDataset(X_valid, y_valid)\n",
    "valid_loader = DataLoader(valid_data, shuffle=False, batch_size=batch_size)\n",
    "\n",
    "test_data = TensorDataset(X_test, y_test)\n",
    "test_loader = DataLoader(test_data, shuffle=False, batch_size=1)"
   ]
  },
  {
   "cell_type": "markdown",
   "metadata": {},
   "source": [
    "# Model"
   ]
  },
  {
   "cell_type": "code",
   "execution_count": 8,
   "metadata": {
    "ExecuteTime": {
     "end_time": "2021-07-04T10:03:33.903674Z",
     "start_time": "2021-07-04T10:03:33.895096Z"
    }
   },
   "outputs": [],
   "source": [
    "def choose_model(model_type):\n",
    "    if model_type == 'singleLSTM':\n",
    "        model = LSTM(8, 128, 1, 24, 1).to(device)\n",
    "        save_path = 'results/singleLSTM/'\n",
    "        save_file_name = save_path + 'SingleLSTMbeijing.pth'\n",
    "    elif model_type == 'stackedLSTM':\n",
    "        model = LSTM(8, 128, 1, 24, 2).to(device)\n",
    "        save_path = 'results/stackedLSTM/'\n",
    "        save_file_name = save_path + 'StackedLSTMbeijing.pth'\n",
    "    elif model_type == 'CNN':\n",
    "        model = CNN(8, [32, 64, 128], 1).to(device)\n",
    "        save_path = 'results/CNN/'\n",
    "        save_file_name = save_path + 'CNNbeijing.pth'\n",
    "    return model, save_path, save_file_name"
   ]
  },
  {
   "cell_type": "code",
   "execution_count": 9,
   "metadata": {
    "ExecuteTime": {
     "end_time": "2021-07-04T10:03:38.202879Z",
     "start_time": "2021-07-04T10:03:33.905736Z"
    }
   },
   "outputs": [
    {
     "name": "stdout",
     "output_type": "stream",
     "text": [
      "CNN(\n",
      "  (block1): Sequential(\n",
      "    (0): Conv1d(8, 32, kernel_size=(4,), stride=(1,), padding=(1,))\n",
      "    (1): ReLU()\n",
      "  )\n",
      "  (block2): Sequential(\n",
      "    (0): Conv1d(32, 64, kernel_size=(4,), stride=(1,), padding=(1,))\n",
      "    (1): ReLU()\n",
      "  )\n",
      "  (block3): Sequential(\n",
      "    (0): Conv1d(64, 128, kernel_size=(4,), stride=(1,), padding=(1,))\n",
      "    (1): ReLU()\n",
      "  )\n",
      "  (conv1): Conv1d(128, 1, kernel_size=(1,), stride=(1,))\n",
      ")\n"
     ]
    }
   ],
   "source": [
    "model_type = 'CNN'\n",
    "model, save_path, save_file_name = choose_model(model_type)\n",
    "print(model)"
   ]
  },
  {
   "cell_type": "code",
   "execution_count": 10,
   "metadata": {
    "ExecuteTime": {
     "end_time": "2021-07-04T10:03:38.209969Z",
     "start_time": "2021-07-04T10:03:38.205064Z"
    }
   },
   "outputs": [],
   "source": [
    "lr = 0.0001\n",
    "optimizer = torch.optim.Adam(model.parameters(), lr=lr)\n",
    "scheduler = torch.optim.lr_scheduler.ReduceLROnPlateau(optimizer=optimizer,\n",
    "                                                       mode='min',\n",
    "                                                       factor=0.2\n",
    "                                                    )\n",
    "criterion = nn.MSELoss().cuda()\n",
    "patience = 5\n",
    "n_epochs = 300"
   ]
  },
  {
   "cell_type": "code",
   "execution_count": 11,
   "metadata": {
    "ExecuteTime": {
     "end_time": "2021-07-04T10:03:45.367628Z",
     "start_time": "2021-07-04T10:03:38.212128Z"
    }
   },
   "outputs": [
    {
     "name": "stdout",
     "output_type": "stream",
     "text": [
      "torch.Size([256, 8, 24])\n",
      "torch.Size([256])\n",
      "tensor([[[-1.0133, -1.0133, -1.0133,  ..., -1.0133, -1.0133, -1.0133],\n",
      "         [-1.0133, -1.0133, -1.0133,  ..., -1.0133, -1.0133, -1.0133],\n",
      "         [-1.0133, -1.0133, -1.0133,  ..., -1.0133, -1.0133, -1.0133],\n",
      "         ...,\n",
      "         [-0.1424, -0.1424, -0.1424,  ..., -0.1424, -0.1424, -0.1424],\n",
      "         [-0.1424, -0.1424, -0.1424,  ..., -0.1424, -0.1424, -0.1424],\n",
      "         [-0.1424, -0.1424, -0.1424,  ..., -0.1424, -0.1424, -0.1424]],\n",
      "\n",
      "        [[-1.0133, -1.0133, -1.0133,  ..., -1.0133, -1.0133, -1.0133],\n",
      "         [-1.0133, -1.0133, -1.0133,  ..., -1.0133, -1.0133, -1.0133],\n",
      "         [-1.0133, -1.0133, -1.0133,  ..., -1.0133, -1.0133,  0.4262],\n",
      "         ...,\n",
      "         [-0.1424, -0.1424, -0.1424,  ..., -0.1424, -0.1424, -0.1424],\n",
      "         [-0.1424, -0.1424, -0.1424,  ..., -0.1424, -0.1424, -0.1424],\n",
      "         [-0.1424, -0.1424, -0.1424,  ..., -0.1424, -0.1424, -0.1424]],\n",
      "\n",
      "        [[-1.0133, -1.0133, -1.0133,  ..., -1.0133, -1.0133, -1.0133],\n",
      "         [-1.0133, -1.0133, -1.0133,  ..., -1.0133, -1.0133, -1.0133],\n",
      "         [-1.0133, -1.0133, -1.0133,  ..., -1.0133,  0.4262,  0.6382],\n",
      "         ...,\n",
      "         [-0.1424, -0.1424, -0.1424,  ..., -0.1424, -0.1424, -0.1424],\n",
      "         [-0.1424, -0.1424, -0.1424,  ..., -0.1424, -0.1424, -0.1424],\n",
      "         [-0.1424, -0.1424, -0.1424,  ..., -0.1424, -0.1424, -0.1424]],\n",
      "\n",
      "        ...,\n",
      "\n",
      "        [[-0.7009, -0.8459, -0.7455,  ..., -0.8683, -0.8236, -0.7901],\n",
      "         [-0.7120, -0.7901, -0.8459,  ..., -0.6004, -0.7232, -0.8459],\n",
      "         [-0.9129, -0.8906, -0.8906,  ..., -0.8459, -0.7790, -0.7455],\n",
      "         ...,\n",
      "         [-0.1424, -0.1424, -0.1424,  ..., -0.1424, -0.1424, -0.1424],\n",
      "         [-0.1424, -0.1424, -0.1424,  ..., -0.1424, -0.1424, -0.1424],\n",
      "         [-0.1424, -0.1424, -0.1424,  ..., -0.1424, -0.1424, -0.1424]],\n",
      "\n",
      "        [[-0.8459, -0.7455, -0.8683,  ..., -0.8236, -0.7901, -0.7120],\n",
      "         [-0.7901, -0.8459, -0.7790,  ..., -0.7232, -0.8459, -0.9129],\n",
      "         [-0.8906, -0.8906, -0.8348,  ..., -0.7790, -0.7455, -0.7678],\n",
      "         ...,\n",
      "         [-0.1424, -0.1424, -0.1424,  ..., -0.1424, -0.1424, -0.1424],\n",
      "         [-0.1424, -0.1424, -0.1424,  ..., -0.1424, -0.1424, -0.1424],\n",
      "         [-0.1424, -0.1424, -0.1424,  ..., -0.1424, -0.1424, -0.1424]],\n",
      "\n",
      "        [[-0.7455, -0.8683, -0.8683,  ..., -0.7901, -0.7120, -0.7901],\n",
      "         [-0.8459, -0.7790, -0.7790,  ..., -0.8459, -0.9129, -0.8906],\n",
      "         [-0.8906, -0.8348, -0.8683,  ..., -0.7455, -0.7678, -0.7678],\n",
      "         ...,\n",
      "         [-0.1424, -0.1424, -0.1424,  ..., -0.1424, -0.1424, -0.1424],\n",
      "         [-0.1424, -0.1424, -0.1424,  ..., -0.1424, -0.1424, -0.1424],\n",
      "         [-0.1424, -0.1424, -0.1424,  ..., -0.1424, -0.1424, -0.1424]]])\n",
      "torch.Size([256, 1])\n",
      "tensor([[-0.9171],\n",
      "        [-0.6319],\n",
      "        [-0.4647],\n",
      "        [-0.3394],\n",
      "        [-0.4168],\n",
      "        [-0.2854],\n",
      "        [-0.2102],\n",
      "        [-0.1294],\n",
      "        [-0.0167],\n",
      "        [-0.3383],\n",
      "        [-0.4349],\n",
      "        [-0.0106],\n",
      "        [-0.2927],\n",
      "        [-0.2383],\n",
      "        [-0.0474],\n",
      "        [-1.5643],\n",
      "        [-0.5839],\n",
      "        [-0.4457],\n",
      "        [-0.4433],\n",
      "        [-0.9721],\n",
      "        [-0.5195],\n",
      "        [-0.5939],\n",
      "        [-0.3115],\n",
      "        [-0.7191],\n",
      "        [-0.3934],\n",
      "        [-0.1255],\n",
      "        [-0.6316],\n",
      "        [-0.7062],\n",
      "        [-1.0490],\n",
      "        [-0.6738],\n",
      "        [-0.6095],\n",
      "        [-0.7054],\n",
      "        [-0.6641],\n",
      "        [-0.6182],\n",
      "        [-0.4457],\n",
      "        [-0.4172],\n",
      "        [-0.3789],\n",
      "        [-0.3855],\n",
      "        [-0.5039],\n",
      "        [-0.2754],\n",
      "        [-0.3680],\n",
      "        [-0.1865],\n",
      "        [-0.0316],\n",
      "        [ 0.2893],\n",
      "        [ 0.0778],\n",
      "        [-0.1041],\n",
      "        [-0.1189],\n",
      "        [-0.1455],\n",
      "        [ 0.2453],\n",
      "        [ 0.0757],\n",
      "        [ 0.7413],\n",
      "        [ 0.1552],\n",
      "        [-0.4279],\n",
      "        [-0.5273],\n",
      "        [-0.7045],\n",
      "        [-1.0039],\n",
      "        [ 0.3525],\n",
      "        [-0.8663],\n",
      "        [-1.4479],\n",
      "        [-0.6075],\n",
      "        [-1.3192],\n",
      "        [-2.0944],\n",
      "        [-0.8868],\n",
      "        [-0.3054],\n",
      "        [ 0.1911],\n",
      "        [-0.5315],\n",
      "        [-0.2479],\n",
      "        [ 0.1628],\n",
      "        [-0.5054],\n",
      "        [-0.5108],\n",
      "        [-0.6352],\n",
      "        [-0.6163],\n",
      "        [-0.6904],\n",
      "        [-0.7869],\n",
      "        [-0.8363],\n",
      "        [-0.8166],\n",
      "        [-0.8234],\n",
      "        [-0.6941],\n",
      "        [-0.8676],\n",
      "        [-0.5082],\n",
      "        [-0.4947],\n",
      "        [-0.3383],\n",
      "        [-0.1667],\n",
      "        [-0.5700],\n",
      "        [-0.6934],\n",
      "        [-0.2154],\n",
      "        [-0.4017],\n",
      "        [-0.6749],\n",
      "        [-0.2728],\n",
      "        [-0.4602],\n",
      "        [-0.2893],\n",
      "        [-0.2813],\n",
      "        [-0.5530],\n",
      "        [-0.5386],\n",
      "        [-1.0194],\n",
      "        [-0.8047],\n",
      "        [-0.4972],\n",
      "        [ 0.0400],\n",
      "        [-0.3275],\n",
      "        [-0.1207],\n",
      "        [ 0.0880],\n",
      "        [-0.1890],\n",
      "        [-0.0883],\n",
      "        [ 0.0075],\n",
      "        [ 0.0036],\n",
      "        [ 0.0912],\n",
      "        [-0.0260],\n",
      "        [-0.0621],\n",
      "        [-0.0231],\n",
      "        [ 0.1074],\n",
      "        [ 0.0227],\n",
      "        [ 0.0795],\n",
      "        [ 0.1492],\n",
      "        [ 0.1289],\n",
      "        [ 0.0310],\n",
      "        [ 0.0052],\n",
      "        [ 0.1920],\n",
      "        [ 0.1961],\n",
      "        [ 0.0942],\n",
      "        [ 0.2028],\n",
      "        [ 0.5984],\n",
      "        [-0.0820],\n",
      "        [ 0.0516],\n",
      "        [ 0.0821],\n",
      "        [ 0.1116],\n",
      "        [-0.3571],\n",
      "        [-0.4847],\n",
      "        [-0.1303],\n",
      "        [-0.4054],\n",
      "        [ 0.2426],\n",
      "        [-0.1747],\n",
      "        [ 0.3575],\n",
      "        [-0.1596],\n",
      "        [-0.1259],\n",
      "        [-0.3573],\n",
      "        [-0.1997],\n",
      "        [-0.2639],\n",
      "        [-0.1099],\n",
      "        [-0.1229],\n",
      "        [ 0.0329],\n",
      "        [-0.1733],\n",
      "        [-0.3254],\n",
      "        [ 0.1931],\n",
      "        [-0.3060],\n",
      "        [-0.1893],\n",
      "        [-0.4437],\n",
      "        [-0.3416],\n",
      "        [-0.1157],\n",
      "        [ 0.0977],\n",
      "        [-0.1510],\n",
      "        [-0.0328],\n",
      "        [-0.6867],\n",
      "        [-0.6199],\n",
      "        [-0.2874],\n",
      "        [-0.3677],\n",
      "        [-0.0044],\n",
      "        [-0.3393],\n",
      "        [ 0.1464],\n",
      "        [-0.5824],\n",
      "        [-0.3042],\n",
      "        [-0.1581],\n",
      "        [-0.5759],\n",
      "        [-0.5904],\n",
      "        [-0.0334],\n",
      "        [-0.4258],\n",
      "        [-0.4858],\n",
      "        [-0.2704],\n",
      "        [-0.5222],\n",
      "        [-0.3418],\n",
      "        [-0.4235],\n",
      "        [-0.3613],\n",
      "        [-0.6769],\n",
      "        [-0.6400],\n",
      "        [-0.1079],\n",
      "        [-0.7950],\n",
      "        [-0.6587],\n",
      "        [-0.3735],\n",
      "        [-0.7136],\n",
      "        [-0.8083],\n",
      "        [-0.7113],\n",
      "        [-0.7543],\n",
      "        [-0.5436],\n",
      "        [-0.6135],\n",
      "        [-0.4945],\n",
      "        [-0.2915],\n",
      "        [-0.4127],\n",
      "        [-0.4247],\n",
      "        [-0.6911],\n",
      "        [-0.2959],\n",
      "        [-0.2287],\n",
      "        [-0.1632],\n",
      "        [-0.2563],\n",
      "        [-0.3206],\n",
      "        [-0.3758],\n",
      "        [-0.5515],\n",
      "        [-0.2612],\n",
      "        [-0.0548],\n",
      "        [-0.4018],\n",
      "        [-0.2942],\n",
      "        [-0.2954],\n",
      "        [-0.0986],\n",
      "        [-0.3095],\n",
      "        [-0.2213],\n",
      "        [-0.3966],\n",
      "        [-0.1533],\n",
      "        [-0.0593],\n",
      "        [-0.2382],\n",
      "        [-0.1738],\n",
      "        [-0.2195],\n",
      "        [-0.4190],\n",
      "        [-0.3661],\n",
      "        [-0.4646],\n",
      "        [ 0.0538],\n",
      "        [-0.1706],\n",
      "        [-0.3629],\n",
      "        [-0.2019],\n",
      "        [-0.3445],\n",
      "        [-0.3367],\n",
      "        [-0.3933],\n",
      "        [-0.4644],\n",
      "        [-0.3530],\n",
      "        [-0.4735],\n",
      "        [-0.5245],\n",
      "        [-0.2680],\n",
      "        [-0.3593],\n",
      "        [-0.0843],\n",
      "        [-0.2273],\n",
      "        [-0.0987],\n",
      "        [-0.2259],\n",
      "        [-0.0723],\n",
      "        [-0.3170],\n",
      "        [-0.0426],\n",
      "        [-0.1095],\n",
      "        [-0.0041],\n",
      "        [-0.1499],\n",
      "        [-0.1894],\n",
      "        [-0.1685],\n",
      "        [-0.1815],\n",
      "        [-0.3405],\n",
      "        [ 0.0515],\n",
      "        [-0.3167],\n",
      "        [-0.0126],\n",
      "        [-0.3717],\n",
      "        [-0.0041],\n",
      "        [-0.5359],\n",
      "        [-0.2276],\n",
      "        [-0.1521],\n",
      "        [ 0.1040],\n",
      "        [ 0.3234],\n",
      "        [ 0.0601],\n",
      "        [-0.1040],\n",
      "        [ 0.5536],\n",
      "        [-0.2104],\n",
      "        [ 0.2744],\n",
      "        [ 0.2138],\n",
      "        [ 0.2254]], device='cuda:0')\n",
      "tensor(0.5850, device='cuda:0')\n"
     ]
    }
   ],
   "source": [
    "with torch.no_grad():\n",
    "    dataiter = iter(train_loader)\n",
    "    X, y = dataiter.next()\n",
    "    print(X.shape)\n",
    "    print(y.shape)\n",
    "    X = X.reshape(-1, 24, 8)\n",
    "    print(X)\n",
    "    exmodel = LSTM(8, 40, 1, 24, 1).cuda()\n",
    "    output = exmodel(X.cuda())\n",
    "    criterion = nn.MSELoss().cuda()\n",
    "    print(output.shape)\n",
    "    print(output)\n",
    "    loss = criterion(output.reshape(-1), y.cuda())\n",
    "    print(loss)"
   ]
  },
  {
   "cell_type": "markdown",
   "metadata": {},
   "source": [
    "# Train"
   ]
  },
  {
   "cell_type": "code",
   "execution_count": 12,
   "metadata": {
    "ExecuteTime": {
     "end_time": "2021-07-04T10:03:45.395140Z",
     "start_time": "2021-07-04T10:03:45.369899Z"
    }
   },
   "outputs": [],
   "source": [
    "def fit(model, batch_size, patience, n_epochs):\n",
    "    \n",
    "    train_losses = []\n",
    "    valid_losses = []\n",
    "    avg_train_losses = []\n",
    "    avg_valid_losses = []\n",
    "    \n",
    "    best_loss = 9999999999\n",
    "    patience = 0\n",
    "    \n",
    "    for epoch in range(1, n_epochs + 1):\n",
    "\n",
    "        ###################\n",
    "        # train the model #\n",
    "        ###################\n",
    "        model.train()\n",
    "        for data, target in train_loader:\n",
    "            optimizer.zero_grad()\n",
    "            if model_type != 'CNN':\n",
    "                data, target = data.reshape(-1, 24, 8).cuda(), target.cuda()\n",
    "            else:\n",
    "                data, target = data.to(device), target.to(device)\n",
    "            output = model(data)\n",
    "            loss = criterion(output.reshape(-1), target)\n",
    "            loss.backward()\n",
    "            optimizer.step()\n",
    "            train_losses.append(loss.item())\n",
    "\n",
    "        ######################    \n",
    "        # validate the model #\n",
    "        ######################\n",
    "        model.eval()\n",
    "        for data, target in valid_loader:\n",
    "            if model_type != 'CNN':\n",
    "                data, target = data.reshape(-1, 24, 8).cuda(), target.cuda()\n",
    "            else:\n",
    "                data, target = data.to(device), target.to(device)\n",
    "            output = model(data)\n",
    "            loss = criterion(output.reshape(-1), target)\n",
    "            valid_losses.append(loss.item())\n",
    "\n",
    "        train_loss = np.average(train_losses)\n",
    "        valid_loss = np.average(valid_losses)\n",
    "        avg_train_losses.append(train_loss)\n",
    "        avg_valid_losses.append(valid_loss)\n",
    "            \n",
    "        epoch_len = len(str(n_epochs))\n",
    "        \n",
    "        print_msg = (f'[{epoch:>{epoch_len}}/{n_epochs:>{epoch_len}}] ' +\n",
    "                     f'train_loss: {train_loss:.5f} ' +\n",
    "                     f'valid_loss: {valid_loss:.5f}')\n",
    "        \n",
    "        print(print_msg)\n",
    "        \n",
    "        train_losses = []\n",
    "        valid_losses = []\n",
    "        \n",
    "        if valid_loss < best_loss:\n",
    "            best_loss = valid_loss\n",
    "            patience = 0\n",
    "            torch.save(model.state_dict(), save_file_name)\n",
    "            print('Saving Model')\n",
    "        else:\n",
    "            patience += 1\n",
    "            print('Patience for ', patience)\n",
    "        if patience == 5:\n",
    "            break\n",
    "\n",
    "    model.load_state_dict(torch.load(save_file_name))\n",
    "\n",
    "    return  model, avg_train_losses, avg_valid_losses"
   ]
  },
  {
   "cell_type": "code",
   "execution_count": 13,
   "metadata": {
    "ExecuteTime": {
     "end_time": "2021-07-04T10:03:45.403691Z",
     "start_time": "2021-07-04T10:03:45.397151Z"
    }
   },
   "outputs": [],
   "source": [
    "def evaluate_model(model, test_loader):\n",
    "    test_loss = 0.0\n",
    "    y_test = []\n",
    "    y_hat = []\n",
    "    model.eval()\n",
    "    for data, target in test_loader:\n",
    "        if model_type != 'CNN':\n",
    "            data, target = data.reshape(-1, 24, 8).cuda(), target.cuda()\n",
    "        else:\n",
    "            data, target = data.to(device), target.to(device)\n",
    "        y_test.append(target.cpu().numpy())\n",
    "        output = model(data)\n",
    "        y_hat.append(output.reshape(-1).detach().cpu().numpy())\n",
    "        loss = criterion(output.reshape(1), target)\n",
    "        test_loss += loss.item()\n",
    "    return test_loss/len(test_loader), y_test, y_hat"
   ]
  },
  {
   "cell_type": "code",
   "execution_count": 14,
   "metadata": {
    "ExecuteTime": {
     "end_time": "2021-07-04T10:05:56.906383Z",
     "start_time": "2021-07-04T10:03:45.405804Z"
    }
   },
   "outputs": [
    {
     "name": "stdout",
     "output_type": "stream",
     "text": [
      "[  1/300] train_loss: 0.88213 valid_loss: 0.74680\n",
      "Saving Model\n",
      "[  2/300] train_loss: 0.63082 valid_loss: 0.55595\n",
      "Saving Model\n",
      "[  3/300] train_loss: 0.56664 valid_loss: 0.51728\n",
      "Saving Model\n",
      "[  4/300] train_loss: 0.53585 valid_loss: 0.50107\n",
      "Saving Model\n",
      "[  5/300] train_loss: 0.51369 valid_loss: 0.49061\n",
      "Saving Model\n",
      "[  6/300] train_loss: 0.50325 valid_loss: 0.48195\n",
      "Saving Model\n",
      "[  7/300] train_loss: 0.49604 valid_loss: 0.47470\n",
      "Saving Model\n",
      "[  8/300] train_loss: 0.48900 valid_loss: 0.46735\n",
      "Saving Model\n",
      "[  9/300] train_loss: 0.48132 valid_loss: 0.46002\n",
      "Saving Model\n",
      "[ 10/300] train_loss: 0.47292 valid_loss: 0.45242\n",
      "Saving Model\n",
      "[ 11/300] train_loss: 0.46355 valid_loss: 0.44470\n",
      "Saving Model\n",
      "[ 12/300] train_loss: 0.45329 valid_loss: 0.43678\n",
      "Saving Model\n",
      "[ 13/300] train_loss: 0.44158 valid_loss: 0.42790\n",
      "Saving Model\n",
      "[ 14/300] train_loss: 0.42742 valid_loss: 0.41510\n",
      "Saving Model\n",
      "[ 15/300] train_loss: 0.41165 valid_loss: 0.39918\n",
      "Saving Model\n",
      "[ 16/300] train_loss: 0.39614 valid_loss: 0.38288\n",
      "Saving Model\n",
      "[ 17/300] train_loss: 0.38728 valid_loss: 0.38023\n",
      "Saving Model\n",
      "[ 18/300] train_loss: 0.39300 valid_loss: 0.36940\n",
      "Saving Model\n",
      "[ 19/300] train_loss: 0.36330 valid_loss: 0.39954\n",
      "Patience for  1\n",
      "[ 20/300] train_loss: 0.37086 valid_loss: 0.52091\n",
      "Patience for  2\n",
      "[ 21/300] train_loss: 0.40212 valid_loss: 0.34709\n",
      "Saving Model\n",
      "[ 22/300] train_loss: 0.34821 valid_loss: 0.33692\n",
      "Saving Model\n",
      "[ 23/300] train_loss: 0.33134 valid_loss: 0.32410\n",
      "Saving Model\n",
      "[ 24/300] train_loss: 0.31869 valid_loss: 0.31364\n",
      "Saving Model\n",
      "[ 25/300] train_loss: 0.31488 valid_loss: 0.32248\n",
      "Patience for  1\n",
      "[ 26/300] train_loss: 0.33912 valid_loss: 0.33323\n",
      "Patience for  2\n",
      "[ 27/300] train_loss: 0.32935 valid_loss: 0.41341\n",
      "Patience for  3\n",
      "[ 28/300] train_loss: 0.35704 valid_loss: 0.35281\n",
      "Patience for  4\n",
      "[ 29/300] train_loss: 0.32809 valid_loss: 0.30396\n",
      "Saving Model\n",
      "[ 30/300] train_loss: 0.29300 valid_loss: 0.29485\n",
      "Saving Model\n",
      "[ 31/300] train_loss: 0.28478 valid_loss: 0.28952\n",
      "Saving Model\n",
      "[ 32/300] train_loss: 0.28012 valid_loss: 0.29472\n",
      "Patience for  1\n",
      "[ 33/300] train_loss: 0.28430 valid_loss: 0.35186\n",
      "Patience for  2\n",
      "[ 34/300] train_loss: 0.32107 valid_loss: 0.33553\n",
      "Patience for  3\n",
      "[ 35/300] train_loss: 0.30892 valid_loss: 0.28668\n",
      "Saving Model\n",
      "[ 36/300] train_loss: 0.29351 valid_loss: 0.28599\n",
      "Saving Model\n",
      "[ 37/300] train_loss: 0.28014 valid_loss: 0.27242\n",
      "Saving Model\n",
      "[ 38/300] train_loss: 0.26360 valid_loss: 0.27861\n",
      "Patience for  1\n",
      "[ 39/300] train_loss: 0.26799 valid_loss: 0.31943\n",
      "Patience for  2\n",
      "[ 40/300] train_loss: 0.29383 valid_loss: 0.29782\n",
      "Patience for  3\n",
      "[ 41/300] train_loss: 0.27969 valid_loss: 0.26104\n",
      "Saving Model\n",
      "[ 42/300] train_loss: 0.27231 valid_loss: 0.28594\n",
      "Patience for  1\n",
      "[ 43/300] train_loss: 0.28359 valid_loss: 0.26048\n",
      "Saving Model\n",
      "[ 44/300] train_loss: 0.25292 valid_loss: 0.27130\n",
      "Patience for  1\n",
      "[ 45/300] train_loss: 0.26087 valid_loss: 0.31096\n",
      "Patience for  2\n",
      "[ 46/300] train_loss: 0.27777 valid_loss: 0.24942\n",
      "Saving Model\n",
      "[ 47/300] train_loss: 0.24867 valid_loss: 0.24282\n",
      "Saving Model\n",
      "[ 48/300] train_loss: 0.25066 valid_loss: 0.25859\n",
      "Patience for  1\n",
      "[ 49/300] train_loss: 0.26017 valid_loss: 0.23944\n",
      "Saving Model\n",
      "[ 50/300] train_loss: 0.23384 valid_loss: 0.25192\n",
      "Patience for  1\n",
      "[ 51/300] train_loss: 0.24738 valid_loss: 0.31056\n",
      "Patience for  2\n",
      "[ 52/300] train_loss: 0.26783 valid_loss: 0.22438\n",
      "Saving Model\n",
      "[ 53/300] train_loss: 0.22888 valid_loss: 0.22345\n",
      "Saving Model\n",
      "[ 54/300] train_loss: 0.22727 valid_loss: 0.22463\n",
      "Patience for  1\n",
      "[ 55/300] train_loss: 0.22679 valid_loss: 0.21582\n",
      "Saving Model\n",
      "[ 56/300] train_loss: 0.21336 valid_loss: 0.21121\n",
      "Saving Model\n",
      "[ 57/300] train_loss: 0.20842 valid_loss: 0.26125\n",
      "Patience for  1\n",
      "[ 58/300] train_loss: 0.26035 valid_loss: 0.29901\n",
      "Patience for  2\n",
      "[ 59/300] train_loss: 0.25966 valid_loss: 0.20499\n",
      "Saving Model\n",
      "[ 60/300] train_loss: 0.20616 valid_loss: 0.19820\n",
      "Saving Model\n",
      "[ 61/300] train_loss: 0.19690 valid_loss: 0.19092\n",
      "Saving Model\n",
      "[ 62/300] train_loss: 0.18996 valid_loss: 0.18567\n",
      "Saving Model\n",
      "[ 63/300] train_loss: 0.18485 valid_loss: 0.18114\n",
      "Saving Model\n",
      "[ 64/300] train_loss: 0.18027 valid_loss: 0.17698\n",
      "Saving Model\n",
      "[ 65/300] train_loss: 0.17592 valid_loss: 0.17422\n",
      "Saving Model\n",
      "[ 66/300] train_loss: 0.17345 valid_loss: 0.19988\n",
      "Patience for  1\n",
      "[ 67/300] train_loss: 0.21586 valid_loss: 0.54882\n",
      "Patience for  2\n",
      "[ 68/300] train_loss: 0.32043 valid_loss: 0.19502\n",
      "Patience for  3\n",
      "[ 69/300] train_loss: 0.19283 valid_loss: 0.17606\n",
      "Patience for  4\n",
      "[ 70/300] train_loss: 0.17542 valid_loss: 0.16689\n",
      "Saving Model\n",
      "[ 71/300] train_loss: 0.16599 valid_loss: 0.16015\n",
      "Saving Model\n",
      "[ 72/300] train_loss: 0.15992 valid_loss: 0.15538\n",
      "Saving Model\n",
      "[ 73/300] train_loss: 0.15537 valid_loss: 0.15162\n",
      "Saving Model\n",
      "[ 74/300] train_loss: 0.15157 valid_loss: 0.15050\n",
      "Saving Model\n",
      "[ 75/300] train_loss: 0.15181 valid_loss: 0.19505\n",
      "Patience for  1\n",
      "[ 76/300] train_loss: 0.22453 valid_loss: 0.35292\n",
      "Patience for  2\n",
      "[ 77/300] train_loss: 0.25876 valid_loss: 0.16770\n",
      "Patience for  3\n",
      "[ 78/300] train_loss: 0.15867 valid_loss: 0.14954\n",
      "Saving Model\n",
      "[ 79/300] train_loss: 0.14902 valid_loss: 0.14258\n",
      "Saving Model\n",
      "[ 80/300] train_loss: 0.14278 valid_loss: 0.13805\n",
      "Saving Model\n",
      "[ 81/300] train_loss: 0.13914 valid_loss: 0.13520\n",
      "Saving Model\n",
      "[ 82/300] train_loss: 0.13834 valid_loss: 0.13852\n",
      "Patience for  1\n",
      "[ 83/300] train_loss: 0.15166 valid_loss: 0.17040\n",
      "Patience for  2\n",
      "[ 84/300] train_loss: 0.18060 valid_loss: 0.14963\n",
      "Patience for  3\n",
      "[ 85/300] train_loss: 0.14988 valid_loss: 0.17846\n",
      "Patience for  4\n",
      "[ 86/300] train_loss: 0.16968 valid_loss: 0.14861\n",
      "Patience for  5\n"
     ]
    }
   ],
   "source": [
    "model, train_loss, valid_loss = fit(model, batch_size, patience, n_epochs)"
   ]
  },
  {
   "cell_type": "code",
   "execution_count": 15,
   "metadata": {
    "ExecuteTime": {
     "end_time": "2021-07-04T10:06:26.987243Z",
     "start_time": "2021-07-04T10:05:56.908822Z"
    }
   },
   "outputs": [],
   "source": [
    "test_loss, y_target, y_hat = evaluate_model(model, test_loader)"
   ]
  },
  {
   "cell_type": "code",
   "execution_count": 16,
   "metadata": {
    "ExecuteTime": {
     "end_time": "2021-07-04T10:06:27.583558Z",
     "start_time": "2021-07-04T10:06:26.995297Z"
    }
   },
   "outputs": [
    {
     "data": {
      "image/png": "[encoded data removed]",
      "text/plain": [
       "<Figure size 720x216 with 1 Axes>"
      ]
     },
     "metadata": {
      "needs_background": "light"
     },
     "output_type": "display_data"
    }
   ],
   "source": [
    "plt.figure(figsize=(10, 3))\n",
    "plt.plot(y_target[200:400], label='target')\n",
    "plt.plot(y_hat[200:400], label='predicted')\n",
    "plt.legend(loc='upper left', fontsize=20)\n",
    "plt.xticks(fontsize=15)\n",
    "plt.yticks(fontsize=15)\n",
    "plt.show()"
   ]
  },
  {
   "cell_type": "code",
   "execution_count": 17,
   "metadata": {
    "ExecuteTime": {
     "end_time": "2021-07-04T10:06:27.590291Z",
     "start_time": "2021-07-04T10:06:27.585600Z"
    }
   },
   "outputs": [
    {
     "name": "stdout",
     "output_type": "stream",
     "text": [
      "Test Loss : 0.11168792656963236\n"
     ]
    }
   ],
   "source": [
    "print('Test Loss :', test_loss)"
   ]
  },
  {
   "cell_type": "code",
   "execution_count": null,
   "metadata": {},
   "outputs": [],
   "source": []
  }
 ],
 "metadata": {
  "kernelspec": {
   "display_name": "Python 3",
   "language": "python",
   "name": "python3"
  },
  "language_info": {
   "codemirror_mode": {
    "name": "ipython",
    "version": 3
   },
   "file_extension": ".py",
   "mimetype": "text/x-python",
   "name": "python",
   "nbconvert_exporter": "python",
   "pygments_lexer": "ipython3",
   "version": "3.8.5"
  },
  "toc": {
   "base_numbering": 1,
   "nav_menu": {},
   "number_sections": false,
   "sideBar": true,
   "skip_h1_title": false,
   "title_cell": "Table of Contents",
   "title_sidebar": "Contents",
   "toc_cell": false,
   "toc_position": {},
   "toc_section_display": true,
   "toc_window_display": false
  },
  "varInspector": {
   "cols": {
    "lenName": 16,
    "lenType": 16,
    "lenVar": 40
   },
   "kernels_config": {
    "python": {
     "delete_cmd_postfix": "",
     "delete_cmd_prefix": "del ",
     "library": "var_list.py",
     "varRefreshCmd": "print(var_dic_list())"
    },
    "r": {
     "delete_cmd_postfix": ") ",
     "delete_cmd_prefix": "rm(",
     "library": "var_list.r",
     "varRefreshCmd": "cat(var_dic_list()) "
    }
   },
   "types_to_exclude": [
    "module",
    "function",
    "builtin_function_or_method",
    "instance",
    "_Feature"
   ],
   "window_display": false
  }
 },
 "nbformat": 4,
 "nbformat_minor": 4
}
